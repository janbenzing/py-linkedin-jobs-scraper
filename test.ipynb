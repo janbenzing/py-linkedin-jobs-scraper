{
 "cells": [
  {
   "cell_type": "code",
   "execution_count": 1,
   "metadata": {},
   "outputs": [
    {
     "name": "stderr",
     "output_type": "stream",
     "text": [
      "/Users/janbenzing/Library/Python/3.9/lib/python/site-packages/urllib3/__init__.py:35: NotOpenSSLWarning: urllib3 v2 only supports OpenSSL 1.1.1+, currently the 'ssl' module is compiled with 'LibreSSL 2.8.3'. See: https://github.com/urllib3/urllib3/issues/3020\n",
      "  warnings.warn(\n",
      "INFO:li:scraper:('Using strategy AnonymousStrategy',)\n",
      "WARNING:li:scraper:(\"AnonymousStrategy is no longer maintained and it won't probably work. It is recommended to use an authenticated session, see documentation at https://github.com/spinlud/py-linkedin-jobs-scraper#anonymous-vs-authenticated-session.\",)\n",
      "INFO:li:scraper:('Starting new query', \"Query(query=Data Scientist options=QueryOptions(limit=5 locations=['United States'] filters=QueryFilters(company_jobs_url=https://www.linkedin.com/jobs/search/?f_C=1441%2C17876832%2C791962%2C2374003%2C18950635%2C16140%2C10440912&geoId=92000000 relevance=RelevanceFilters.RECENT time=TimeFilters.MONTH base_salary=SalaryBaseFilters.SALARY_200K type=[<TypeFilters.FULL_TIME: 'F'>] experience=[<ExperienceLevelFilters.MID_SENIOR: '4'>] on_site_or_remote=[<OnSiteOrRemoteFilters.REMOTE: '2'>]) apply_link=True skip_promoted_jobs=True page_offset=2))\")\n",
      "INFO:li:scraper:('Chrome debugger url', 'http://localhost:61921')\n",
      "INFO:li:scraper:('Websocket debugger url: ', 'ws://localhost:61921/devtools/page/A68EE5FA8D566A2240147FD2A6AF5EF1')\n",
      "WARNING:li:scraper:('[AnonymousStrategy]', 'This run strategy is no longer supported')\n",
      "INFO:li:scraper:('[Data Scientist][United States]', 'Opening https://www.linkedin.com/jobs/search?keywords=Data+Scientist&location=United+States&f_C=1441%2C17876832%2C791962%2C2374003%2C18950635%2C16140%2C10440912&sortBy=DD&f_TPR=r2592000&f_SB2=9&f_JT=F&f_E=4&start=0')\n",
      "INFO:li:scraper:('[Data Scientist][United States]', 'Trying first selectors set')\n",
      "INFO:li:scraper:('[Data Scientist][United States]', 'Trying second selectors set')\n",
      "INFO:li:scraper:('[Data Scientist][United States]', 'OK')\n",
      "INFO:li:scraper:('[Data Scientist][United States]', 'Starting pagination loop')\n",
      "INFO:li:scraper:('[Data Scientist][United States]', 'Found 60 jobs')\n",
      "INFO:li:scraper:('[Data Scientist][United States][1]', 'Processed')\n"
     ]
    },
    {
     "name": "stdout",
     "output_type": "stream",
     "text": [
      "[ON_DATA] Senior Data Scientist, Product Google  2024-08-04 https://www.linkedin.com/jobs/view/senior-data-scientist-product-at-google-3932604692?position=1&pageNum=0&refId=PrPeK5UGwAJK4WZ9P4Glgg%3D%3D&trackingId=2cCgORdVpVIBPhevIYH1Tw%3D%3D&trk=public_jobs_jserp-result_search-card [] 4339\n"
     ]
    },
    {
     "name": "stderr",
     "output_type": "stream",
     "text": [
      "INFO:li:scraper:('[Data Scientist][United States][2]', 'Processed')\n"
     ]
    },
    {
     "name": "stdout",
     "output_type": "stream",
     "text": [
      "[ON_DATA] Senior Data Scientist, Research Google  2024-08-10 https://www.linkedin.com/jobs/view/senior-data-scientist-research-at-google-3978818933?position=2&pageNum=0&refId=PrPeK5UGwAJK4WZ9P4Glgg%3D%3D&trackingId=LnWIalWAirtg9wDMac%2B6ZA%3D%3D&trk=public_jobs_jserp-result_search-card [] 4069\n"
     ]
    },
    {
     "name": "stderr",
     "output_type": "stream",
     "text": [
      "INFO:li:scraper:('[Data Scientist][United States][3]', 'Processed')\n"
     ]
    },
    {
     "name": "stdout",
     "output_type": "stream",
     "text": [
      "[ON_DATA] Senior Data Scientist, Research Google  2024-08-15 https://www.linkedin.com/jobs/view/senior-data-scientist-research-at-google-3965994762?position=3&pageNum=0&refId=PrPeK5UGwAJK4WZ9P4Glgg%3D%3D&trackingId=z8o%2Bfr%2Baq9hGtTL64D3Scg%3D%3D&trk=public_jobs_jserp-result_search-card [] 4069\n"
     ]
    },
    {
     "name": "stderr",
     "output_type": "stream",
     "text": [
      "INFO:li:scraper:('[Data Scientist][United States][4]', 'Processed')\n"
     ]
    },
    {
     "name": "stdout",
     "output_type": "stream",
     "text": [
      "[ON_DATA] Senior Data Scientist, Product Google  2024-08-08 https://www.linkedin.com/jobs/view/senior-data-scientist-product-at-google-3959145632?position=4&pageNum=0&refId=PrPeK5UGwAJK4WZ9P4Glgg%3D%3D&trackingId=AgWlq4Sb0pYURllK2eV9eA%3D%3D&trk=public_jobs_jserp-result_search-card [] 4339\n"
     ]
    },
    {
     "name": "stderr",
     "output_type": "stream",
     "text": [
      "ERROR:li:scraper:('[Data Scientist][United States][5]', 'Timeout on loading job details')\n",
      "NoneType: None\n",
      "ERROR:li:scraper:('[Data Scientist][United States][5]', 'Timeout on loading job details')\n",
      "NoneType: None\n",
      "INFO:li:scraper:('[Data Scientist][United States][5]', 'Processed')\n"
     ]
    },
    {
     "name": "stdout",
     "output_type": "stream",
     "text": [
      "[ON_DATA] Senior Data Scientist, Product Google  2024-08-15 https://www.linkedin.com/jobs/view/senior-data-scientist-product-at-google-4000193729?position=7&pageNum=0&refId=PrPeK5UGwAJK4WZ9P4Glgg%3D%3D&trackingId=DhCqBZufAWSrCAYouDI%2FMw%3D%3D&trk=public_jobs_jserp-result_search-card [] 4339\n",
      "[ON_END]\n"
     ]
    }
   ],
   "source": [
    "import logging\n",
    "from linkedin_jobs_scraper import LinkedinScraper\n",
    "from linkedin_jobs_scraper.events import Events, EventData, EventMetrics\n",
    "from linkedin_jobs_scraper.query import Query, QueryOptions, QueryFilters\n",
    "from linkedin_jobs_scraper.filters import RelevanceFilters, TimeFilters, TypeFilters, ExperienceLevelFilters, \\\n",
    "    OnSiteOrRemoteFilters, SalaryBaseFilters\n",
    "\n",
    "# Change root logger level (default is WARN)\n",
    "logging.basicConfig(level=logging.INFO)\n",
    "\n",
    "\n",
    "# Fired once for each successfully processed job\n",
    "def on_data(data: EventData):\n",
    "    print('[ON_DATA]', data.title, data.company, data.company_link, data.date, data.link, data.insights,\n",
    "          len(data.description))\n",
    "\n",
    "\n",
    "# Fired once for each page (25 jobs)\n",
    "def on_metrics(metrics: EventMetrics):\n",
    "    print('[ON_METRICS]', str(metrics))\n",
    "\n",
    "\n",
    "def on_error(error):\n",
    "    print('[ON_ERROR]', error)\n",
    "\n",
    "\n",
    "def on_end():\n",
    "    print('[ON_END]')\n",
    "\n",
    "\n",
    "scraper = LinkedinScraper(\n",
    "    chrome_executable_path=None,  # Custom Chrome executable path (e.g. /foo/bar/bin/chromedriver)\n",
    "    chrome_binary_location=None,  # Custom path to Chrome/Chromium binary (e.g. /foo/bar/chrome-mac/Chromium.app/Contents/MacOS/Chromium)\n",
    "    chrome_options=None,  # Custom Chrome options here\n",
    "    headless=True,  # Overrides headless mode only if chrome_options is None\n",
    "    max_workers=1,  # How many threads will be spawned to run queries concurrently (one Chrome driver for each thread)\n",
    "    slow_mo=0.5,  # Slow down the scraper to avoid 'Too many requests 429' errors (in seconds)\n",
    "    page_load_timeout=40  # Page load timeout (in seconds)    \n",
    ")\n",
    "\n",
    "# Add event listeners\n",
    "scraper.on(Events.DATA, on_data)\n",
    "scraper.on(Events.ERROR, on_error)\n",
    "scraper.on(Events.END, on_end)\n",
    "\n",
    "queries = [\n",
    "    Query(\n",
    "        query='Data Scientist',\n",
    "        options=QueryOptions(\n",
    "            locations=['United States'],\n",
    "            apply_link=True,  # Try to extract apply link (easy applies are skipped). If set to True, scraping is slower because an additional page must be navigated. Default to False.\n",
    "            skip_promoted_jobs=True,  # Skip promoted jobs. Default to False.\n",
    "            page_offset=2,  # How many pages to skip\n",
    "            limit=5,\n",
    "            filters=QueryFilters(\n",
    "                company_jobs_url='https://www.linkedin.com/jobs/search/?f_C=1441%2C17876832%2C791962%2C2374003%2C18950635%2C16140%2C10440912&geoId=92000000',  # Filter by companies.                \n",
    "                relevance=RelevanceFilters.RECENT,\n",
    "                time=TimeFilters.MONTH,\n",
    "                type=[TypeFilters.FULL_TIME],\n",
    "                on_site_or_remote=[OnSiteOrRemoteFilters.REMOTE],\n",
    "                experience=[ExperienceLevelFilters.MID_SENIOR],\n",
    "                base_salary=SalaryBaseFilters.SALARY_200K\n",
    "            )\n",
    "        )\n",
    "    ),\n",
    "]\n",
    "\n",
    "scraper.run(queries)"
   ]
  }
 ],
 "metadata": {
  "kernelspec": {
   "display_name": "Python 3",
   "language": "python",
   "name": "python3"
  },
  "language_info": {
   "codemirror_mode": {
    "name": "ipython",
    "version": 3
   },
   "file_extension": ".py",
   "mimetype": "text/x-python",
   "name": "python",
   "nbconvert_exporter": "python",
   "pygments_lexer": "ipython3",
   "version": "3.9.6"
  }
 },
 "nbformat": 4,
 "nbformat_minor": 2
}
